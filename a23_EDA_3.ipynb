{
 "cells": [
  {
   "cell_type": "code",
   "execution_count": 1,
   "id": "8c77e91f-87ed-4910-bf13-828bfaba66b7",
   "metadata": {},
   "outputs": [],
   "source": [
    "import pandas as pd"
   ]
  },
  {
   "cell_type": "code",
   "execution_count": 2,
   "id": "e1068422-b235-42f2-88f2-884e8859e2ae",
   "metadata": {},
   "outputs": [],
   "source": [
    "all_states = pd.read_csv('csv_a23/a23_cleaned.csv')"
   ]
  },
  {
   "cell_type": "code",
   "execution_count": 3,
   "id": "a788ec53-cba8-4ab4-b2b7-b74d1af10b42",
   "metadata": {},
   "outputs": [
    {
     "data": {
      "text/plain": [
       "Index(['Estado', 'Código do Estabelecimento no CNES',\n",
       "       'Código da Unidade da Federação (IBGE) + Código do Município (IBGE) do Gestor, ou UF0000 se o estabelecimento estiver sob Gestão Estadual',\n",
       "       'Unidade da Federação + Código do Município onde está localizado o estabelecimento',\n",
       "       'Tipo de Estabelecimento', 'Tipo de Prestador',\n",
       "       'Data de Processamento / Movimento (AAAAMM)',\n",
       "       'Data da Realização do Procedimento / Competência (AAAAMM)',\n",
       "       'Código do Procedimento Ambulatorial',\n",
       "       'Número do CNS (Cartão Nacional de Saúde) do profissional de saúde executante',\n",
       "       'Código da Ocupação do profissional na Classificação Brasileira de Ocupações (Ministério do Trabalho)',\n",
       "       'Código da CID Primária', 'Idade do paciente em anos',\n",
       "       'Sexo do paciente', 'Raça/Cor do paciente',\n",
       "       'Código da Unidade da Federação + Código do Município de residência do paciente ou do estabelecimento, caso não se tenha a identificação do paciente',\n",
       "       'Quantidade Produzida (APRESENTADA)',\n",
       "       'Quantidade Aprovada do procedimento', 'Valor Produzido (APRESENTADO)',\n",
       "       'Indica se a UF de residência do paciente é diferente da UF de localização do estabelecimento',\n",
       "       'Indica se o município de residência do paciente é diferente do município de localização do estabelecimento',\n",
       "       'Valor Aprovado do procedimento'],\n",
       "      dtype='object')"
      ]
     },
     "execution_count": 3,
     "metadata": {},
     "output_type": "execute_result"
    }
   ],
   "source": [
    "all_states.columns"
   ]
  },
  {
   "cell_type": "code",
   "execution_count": 4,
   "id": "44b26778-3add-4781-adf5-c4ad183e26d7",
   "metadata": {},
   "outputs": [],
   "source": [
    "# 3065383 = CENTRO DE FISIOTERAPIA MUNICIPAL\n",
    "# 2013916 = USF DR ALFREDO CAMPOS\n",
    "# 2014610 = POLI DR DJALMA BATISTA\n",
    "# 9507930 = POLICLINICA REGIONAL REGIAO DE SAUDE FEIRA DE SANTANA\n",
    "# 7978642 = HOSPITAL DAHER LAGO SUL SA\n",
    "# 7530005 = UNIDADE DE PRONTO ATENDIMENTO UPA 24 HORAS\n",
    "# 2705680 = UBS SANTO ANTONIO\n",
    "# 9242295 = UPA PAULISTA\t\n",
    "# 9492380 = PRONTO ATENDIMENTO PARQUE ALVORADA\n",
    "# 0 = Não Informado"
   ]
  },
  {
   "cell_type": "code",
   "execution_count": 5,
   "id": "915c9722-34f3-4f68-9f1f-76cc70fe1c01",
   "metadata": {},
   "outputs": [],
   "source": [
    "replacements = {\n",
    "    3065383: 'CENTRO DE FISIOTERAPIA MUNICIPAL',\n",
    "    2013916: 'USF DR ALFREDO CAMPOS',\n",
    "    2014610: 'POLI DR DJALMA BATISTA',\n",
    "    9507930: 'POLICLINICA REGIONAL REGIAO DE SAUDE FEIRA DE SANTANA',\n",
    "    7978642: 'HOSPITAL DAHER LAGO SUL SA',\n",
    "    7530005: 'UNIDADE DE PRONTO ATENDIMENTO UPA 24 HORAS',\n",
    "    2705680: 'UBS SANTO ANTONIO',\n",
    "    9242295: 'UPA PAULISTA',\n",
    "    9492380: 'PRONTO ATENDIMENTO PARQUE ALVORADA',\n",
    "    0: 'Não Informado'\n",
    "}\n",
    "\n",
    "all_states['Código do Estabelecimento no CNES'] = all_states['Código do Estabelecimento no CNES'].replace(replacements)"
   ]
  },
  {
   "cell_type": "code",
   "execution_count": 6,
   "id": "9fadde87-addd-44de-8ba7-3e237dbbf5a7",
   "metadata": {},
   "outputs": [],
   "source": [
    "# 270240 = Junqueiro\n",
    "# 130260 = Manaus\n",
    "# 290000 = Gestão Estadual\n",
    "# 530000 = Gestão Estadual\n",
    "# 150680 = Santarém\n",
    "# 354980 = São José do Rio Preto\n",
    "# 351880 = Guarulhos\n",
    "# 0 = Não Informado"
   ]
  },
  {
   "cell_type": "code",
   "execution_count": 7,
   "id": "620199e2-6407-4b2b-be19-76c687bdc9ea",
   "metadata": {},
   "outputs": [],
   "source": [
    "replacements = {\n",
    "    270240: 'Junqueiro',\n",
    "    130260: 'Manaus',\n",
    "    291080: 'Feira de Santana',\n",
    "    530010: 'Brasília',\n",
    "    150680: 'Santarém',\n",
    "    354980: 'São José do Rio Preto',\n",
    "    351880: 'Guarulhos',\n",
    "    0: 'Não Informado'\n",
    "}\n",
    "\n",
    "all_states['Unidade da Federação + Código do Município onde está localizado o estabelecimento'] = all_states['Unidade da Federação + Código do Município onde está localizado o estabelecimento'].replace(replacements)"
   ]
  },
  {
   "cell_type": "code",
   "execution_count": 8,
   "id": "61eac1f1-1391-45f1-a89e-c7f342a466e1",
   "metadata": {},
   "outputs": [],
   "source": [
    "# 270240 = Junqueiro\n",
    "# 130260 = Manaus\n",
    "# 291080 = Feira de Santana\n",
    "# 530010 = Brasília\n",
    "# 150680 = Santarém\n",
    "# 354980 = São José do Rio Preto\n",
    "# 351880 = Guarulhos\n",
    "# 0 = Não Informado"
   ]
  },
  {
   "cell_type": "code",
   "execution_count": 9,
   "id": "4e8796db-7469-4897-b2a7-6928a1421070",
   "metadata": {},
   "outputs": [],
   "source": [
    "replacements = {\n",
    "    270240: 'Junqueiro',\n",
    "    130260: 'Manaus',\n",
    "    290000: 'Gestão Estadual',\n",
    "    530000: 'Gestão Estadual',\n",
    "    150680: 'Santarém',\n",
    "    354980: 'São José do Rio Preto',\n",
    "    351880: 'Guarulhos',\n",
    "    0: 'Não Informado'\n",
    "}\n",
    "\n",
    "# Assuming 'Código da Unidade da Federação (IBGE) + Código do Município (IBGE) do Gestor, ou UF0000 se o estabelecimento estiver sob Gestão Estadual' is the column name\n",
    "all_states['Código da Unidade da Federação (IBGE) + Código do Município (IBGE) do Gestor, ou UF0000 se o estabelecimento estiver sob Gestão Estadual'] = all_states['Código da Unidade da Federação (IBGE) + Código do Município (IBGE) do Gestor, ou UF0000 se o estabelecimento estiver sob Gestão Estadual'].replace(replacements)"
   ]
  },
  {
   "cell_type": "code",
   "execution_count": 10,
   "id": "a1efba3f-36a0-450a-b302-ac750c8747b1",
   "metadata": {},
   "outputs": [],
   "source": [
    "# 291400 = Ipirá\n",
    "# 291125 = Gavião\n",
    "# 530010 = Brasília\n",
    "# 150475 = Mojuí dos Campos"
   ]
  },
  {
   "cell_type": "code",
   "execution_count": 11,
   "id": "a507f99a-d761-4eba-a43b-62e53d099434",
   "metadata": {},
   "outputs": [],
   "source": [
    "replacements = {\n",
    "    270240: 'Junqueiro',\n",
    "    130260: 'Manaus',\n",
    "    290000: 'Gestão Estadual',\n",
    "    530000: 'Gestão Estadual',\n",
    "    150680: 'Santarém',\n",
    "    354980: 'São José do Rio Preto',\n",
    "    351880: 'Guarulhos',\n",
    "    291400: 'Ipirá',\n",
    "    291125: 'Gavião',\n",
    "    530010: 'Brasília',\n",
    "    150475: 'Mojuí dos Campos',\n",
    "    0: 'Não Informado'\n",
    "}\n",
    "\n",
    "all_states['Código da Unidade da Federação + Código do Município de residência do paciente ou do estabelecimento, caso não se tenha a identificação do paciente'] = all_states['Código da Unidade da Federação + Código do Município de residência do paciente ou do estabelecimento, caso não se tenha a identificação do paciente'].replace(replacements)"
   ]
  },
  {
   "cell_type": "code",
   "execution_count": 12,
   "id": "a8e055ac-8fb5-4262-85ac-223dee2ac526",
   "metadata": {},
   "outputs": [],
   "source": [
    "# 36 = Clínica/ Centro de Especialidade\n",
    "# 2 = Centro de Saúde/ Unidade Básica de Saúde\n",
    "# 4 = Policlínica\n",
    "# 5 = Hospital Geral\n",
    "# 73 = Pronto Atendimento\n",
    "# 0 = Não informado"
   ]
  },
  {
   "cell_type": "code",
   "execution_count": 13,
   "id": "ac0c34c8-e5fe-49d1-bae5-edd0569d8244",
   "metadata": {},
   "outputs": [],
   "source": [
    "replacements = {\n",
    "    36: 'Clínica/ Centro de Especialidade',\n",
    "    2: 'Centro de Saúde/ Unidade Básica de Saúde',\n",
    "    4: 'Policlínica',\n",
    "    5: 'Hospital Geral',\n",
    "    73: 'Pronto Atendimento',\n",
    "    0: 'Não informado'\n",
    "}\n",
    "\n",
    "columns_to_replace = ['Tipo de Estabelecimento', 'Tipo de Prestador']\n",
    "\n",
    "# Replace values in specified columns\n",
    "all_states[columns_to_replace] = all_states[columns_to_replace].replace(replacements)"
   ]
  },
  {
   "cell_type": "code",
   "execution_count": 14,
   "id": "85668595-f343-4720-a9b2-aa29a88e71b3",
   "metadata": {},
   "outputs": [],
   "source": [
    "# 301040044 = PSICÓLOGO CLÍNICO\n",
    "# 205020127 = ECOGRAFIA CERVICAL \n",
    "# 205020160 = ECOGRAFIA PELVICA\n",
    "# 205020046 = ECOGRAFIA ABDOMINAL TOTAL (URGENCIA)\n",
    "# 301010072 = CONSULTA CIRURGIA PLASTICA\n",
    "# 207010048 = RESSONANCIA MAGNETICA DE COLUNA LOMBO SACRA C/ CONTRASTE\n",
    "# 207010064 = RESSONANCIA MAGNETICA DE CRANIO\n",
    "# 207010056 = RESSONANCIA MAGNETICA DE COLUNA TORACICA\n",
    "# 207010030 = RESSONANCIA MAGNETICA DE COLUNA CERVICAL\n",
    "# 301060118 = ACOLHIMENTO COM CLASSIFICAÇÃO DE RISCO\n",
    "# 214010082 = TESTE RÁPIDO PARA SÍFILIS EM GESTANTE\n",
    "# 214010040 = TESTE RAPIDO PARA DETECCAO DE HIV EM GESTANTE\n",
    "# 301060096 = ATENDIMENTO MEDICO EM UNIDADE DE PRONTO ATENDIMENTO\n",
    "# 301060118 = ACOLHIMENTO COM CLASSIFICAÇÃO DE RISCO\n",
    "# 301060096 = ATENDIMENTO MEDICO EM UNIDADE DE PRONTO ATENDIMENTO\n",
    "# 301060118 = ACOLHIMENTO COM CLASSIFICAÇÃO DE RISCO "
   ]
  },
  {
   "cell_type": "code",
   "execution_count": 15,
   "id": "f4b64d82-3d4a-4344-8a62-5b211a919a5f",
   "metadata": {},
   "outputs": [],
   "source": [
    "replacements = {\n",
    "    301040044: 'PSICÓLOGO CLÍNICO',\n",
    "    205020127: 'ECOGRAFIA CERVICAL',\n",
    "    205020160: 'ECOGRAFIA PELVICA',\n",
    "    205020046: 'ECOGRAFIA ABDOMINAL TOTAL (URGENCIA)',\n",
    "    301010072: 'CONSULTA CIRURGIA PLASTICA',\n",
    "    207010048: 'RESSONANCIA MAGNETICA DE COLUNA LOMBO SACRA C/ CONTRASTE',\n",
    "    207010064: 'RESSONANCIA MAGNETICA DE CRANIO',\n",
    "    207010056: 'RESSONANCIA MAGNETICA DE COLUNA TORACICA',\n",
    "    207010030: 'RESSONANCIA MAGNETICA DE COLUNA CERVICAL',\n",
    "    301060118: 'ACOLHIMENTO COM CLASSIFICAÇÃO DE RISCO',\n",
    "    214010082: 'TESTE RÁPIDO PARA SÍFILIS EM GESTANTE',\n",
    "    214010040: 'TESTE RAPIDO PARA DETECCAO DE HIV EM GESTANTE',\n",
    "    301060096: 'ATENDIMENTO MEDICO EM UNIDADE DE PRONTO ATENDIMENTO',\n",
    "    301060118: 'ACOLHIMENTO COM CLASSIFICAÇÃO DE RISCO',\n",
    "    301060096: 'ATENDIMENTO MEDICO EM UNIDADE DE PRONTO ATENDIMENTO',\n",
    "    301060118: 'ACOLHIMENTO COM CLASSIFICAÇÃO DE RISCO'\n",
    "}\n",
    "\n",
    "column_to_replace = 'Código do Procedimento Ambulatorial'\n",
    "\n",
    "# Replace values in the specified column\n",
    "all_states[column_to_replace] = all_states[column_to_replace].replace(replacements)"
   ]
  },
  {
   "cell_type": "code",
   "execution_count": 16,
   "id": "528edc8d-42ac-4f35-ab79-a481cee0a78e",
   "metadata": {},
   "outputs": [],
   "source": [
    "# 223905 = Terapeuta ocupacional\n",
    "# 225320 = Imaginologista \n",
    "# 225103 = Infectologista \n",
    "# 223565 = 223565\n",
    "# 225125 = Clínico geral \n",
    "# 223505 = Enfermeiro\n",
    "# 225124 = Hebeatra\n",
    "# 225125 = Clínico Geral"
   ]
  },
  {
   "cell_type": "code",
   "execution_count": 17,
   "id": "f7936cbc-bf7e-49d2-aa9f-b03fa86ad88d",
   "metadata": {},
   "outputs": [],
   "source": [
    "replacements = {\n",
    "    223905: 'Terapeuta ocupacional',\n",
    "    225320: 'Imaginologista',\n",
    "    225103: 'Infectologista',\n",
    "    223565: '223565',\n",
    "    225125: 'Clínico geral',\n",
    "    223505: 'Enfermeiro',\n",
    "    225124: 'Hebeatra'\n",
    "}\n",
    "\n",
    "column_to_replace = 'Código da Ocupação do profissional na Classificação Brasileira de Ocupações (Ministério do Trabalho)'\n",
    "\n",
    "# Replace values in the specified column\n",
    "all_states[column_to_replace] = all_states[column_to_replace].replace(replacements)"
   ]
  },
  {
   "cell_type": "code",
   "execution_count": 18,
   "id": "7ffaf983-427c-4e15-9b5e-b25963b37404",
   "metadata": {},
   "outputs": [
    {
     "data": {
      "text/plain": [
       "('csv_a23/a23_final.csv', 'a23_final.xlsx')"
      ]
     },
     "execution_count": 18,
     "metadata": {},
     "output_type": "execute_result"
    }
   ],
   "source": [
    "final_csv_path = 'csv_a23/a23_final.csv'\n",
    "final_excel_path = 'a23_final.xlsx'\n",
    "\n",
    "# Save to CSV\n",
    "all_states.to_csv(final_csv_path, index=False)\n",
    "\n",
    "# Save to Excel\n",
    "all_states.to_excel(final_excel_path, index=False)\n",
    "\n",
    "final_csv_path, final_excel_path"
   ]
  }
 ],
 "metadata": {
  "kernelspec": {
   "display_name": "Python 3 (ipykernel)",
   "language": "python",
   "name": "python3"
  },
  "language_info": {
   "codemirror_mode": {
    "name": "ipython",
    "version": 3
   },
   "file_extension": ".py",
   "mimetype": "text/x-python",
   "name": "python",
   "nbconvert_exporter": "python",
   "pygments_lexer": "ipython3",
   "version": "3.11.8"
  }
 },
 "nbformat": 4,
 "nbformat_minor": 5
}
